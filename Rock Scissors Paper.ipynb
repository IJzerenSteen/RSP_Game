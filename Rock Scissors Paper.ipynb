{
 "cells": [
  {
   "cell_type": "markdown",
   "metadata": {},
   "source": [
    "## ROCK, SCISSORS, PAPER GAME "
   ]
  },
  {
   "cell_type": "markdown",
   "metadata": {},
   "source": [
    "![alt text](https://upload.wikimedia.org/wikipedia/commons/6/67/Rock-paper-scissors.svg \"RSP_GAME\")"
   ]
  },
  {
   "cell_type": "code",
   "execution_count": 1,
   "metadata": {},
   "outputs": [],
   "source": [
    "#Importing the random library. We will need it for computers random choice.\n",
    "import random "
   ]
  },
  {
   "cell_type": "code",
   "execution_count": null,
   "metadata": {},
   "outputs": [],
   "source": [
    "#This is the list for our three choices.  \n",
    "rsp=[\"Rock\", \"Scissors\", \"Paper\"]\n",
    "\n",
    "#We set the variables to Rock, Scissors and Paper\n",
    "Rock=rsp[0]\n",
    "Scissors=rsp[1]\n",
    "Paper=rsp[2]\n",
    "\n",
    "#This part is for player's choice. Player should choose just Rock, Scissors or Paper. \n",
    "while True: \n",
    "    your_choice=input(\"Please enter Rock, Scissors or Paper --> \")\n",
    "    if your_choice == Rock:\n",
    "        print(\"Allright!\")\n",
    "        break\n",
    "    elif your_choice == Scissors:\n",
    "        print(\"Allright!\")\n",
    "        break\n",
    "        \n",
    "    elif your_choice == Paper:\n",
    "        print(\"Allright!\")\n",
    "        break\n",
    "        \n",
    "    else: \n",
    "        print(\"You have entered wrong choice. Please enter one of three: Rock, Scissors or Paper.\")\n",
    "    \n",
    "#This part is for Computer. Computer chooses one of Rock, Scissors or Paper randomly.     \n",
    "comp_choice=random.choice(rsp)\n",
    "print(\"Computer has chosen {}.\".format(comp_choice))\n",
    "\n",
    "\n",
    "#This part is for probabilities. Paper wraps rock, Rock breaks scissors, Scissors cut paper.\n",
    "\n",
    "if your_choice==Paper:\n",
    "    if Paper==comp_choice:\n",
    "        print(\"Draw!!! Try Again.\")\n",
    "    elif Rock==comp_choice:\n",
    "        print(\"Congratulations! You win the game.\")\n",
    "    elif Scissors==comp_choice:\n",
    "        print(\"Stop feeling sad! This is just a game. Try again.\")\n",
    "elif your_choice==Rock:\n",
    "    if Rock==comp_choice:\n",
    "        print(\"Draw!!! Try Again.\")\n",
    "    elif Paper==comp_choice:\n",
    "        print(\"Stop feeling sad! This is just a game. Try again.\")\n",
    "    elif Scissors==comp_choice:\n",
    "        print(\"Congratulations! You win the game.\")\n",
    "elif your_choice==Scissors:\n",
    "    if Scissors==comp_choice:\n",
    "        print(\"Draw!!! Try Again.\")\n",
    "    elif Rock==comp_choice:\n",
    "        print(\"Stop feeling sad! This is just a game. Try again.\")\n",
    "    elif Paper==comp_choice:\n",
    "        print(\"Congratulations! You win the game.\")\n",
    "\n",
    "print(\"Thank you for your game. I am ready to play again.\")\n"
   ]
  }
 ],
 "metadata": {
  "kernelspec": {
   "display_name": "Python 3",
   "language": "python",
   "name": "python3"
  },
  "language_info": {
   "codemirror_mode": {
    "name": "ipython",
    "version": 3
   },
   "file_extension": ".py",
   "mimetype": "text/x-python",
   "name": "python",
   "nbconvert_exporter": "python",
   "pygments_lexer": "ipython3",
   "version": "3.7.3"
  }
 },
 "nbformat": 4,
 "nbformat_minor": 2
}
